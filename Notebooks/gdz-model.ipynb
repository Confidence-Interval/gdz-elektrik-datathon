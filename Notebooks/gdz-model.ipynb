{
 "cells": [
  {
   "cell_type": "code",
   "execution_count": 1,
   "metadata": {
    "_cell_guid": "b1076dfc-b9ad-4769-8c92-a6c4dae69d19",
    "_uuid": "8f2839f25d086af736a60e9eeb907d3b93b6e0e5"
   },
   "outputs": [],
   "source": [
    "import re\n",
    "import datetime\n",
    "import numpy as np \n",
    "import pandas as pd  \n",
    "import seaborn as sns  \n",
    "import matplotlib.pyplot as plt  \n",
    "\n",
    "import warnings \n",
    "warnings.filterwarnings('ignore')\n",
    "\n",
    "import catboost as cb\n",
    "from sklearn.model_selection import KFold\n",
    "from sklearn.preprocessing import OneHotEncoder\n",
    "from sklearn.model_selection import train_test_split\n",
    "from sklearn.metrics import r2_score, mean_absolute_error"
   ]
  },
  {
   "cell_type": "code",
   "execution_count": 2,
   "metadata": {},
   "outputs": [],
   "source": [
    "train_data = pd.read_csv(\"/home/enes/Desktop/GDZ_datathon/data/train.csv\")\n",
    "test_data = pd.read_csv(\"/home/enes/Desktop/GDZ_datathon/data/test.csv\")\n",
    "holidays_data = pd.read_csv(\"/home/enes/Desktop/GDZ_datathon/data/holidays.csv\")\n",
    "sample_submission = pd.read_csv(\"/home/enes/Desktop/GDZ_datathon/data/sample_submission.csv\")\n",
    "weather_data = pd.read_csv(\"/home/enes/Desktop/GDZ_datathon/data/weather.csv\")"
   ]
  },
  {
   "cell_type": "code",
   "execution_count": 3,
   "metadata": {},
   "outputs": [],
   "source": [
    "# formatting\n",
    "holidays_data.rename(columns={'Tatil Adı': 'Bayram_Flag'}, inplace=True)\n",
    "weather_data.rename(columns={'name': 'ilce'}, inplace=True)\n",
    "weather_data['ilce'] = weather_data['ilce'].str.lower()\n",
    "\n",
    "test_data['unique_id'] = test_data['tarih'] + '-' + test_data['ilce']"
   ]
  },
  {
   "cell_type": "code",
   "execution_count": 4,
   "metadata": {},
   "outputs": [],
   "source": [
    "# add basic flag\n",
    "train_data['il_kodu'] = train_data['ilce'].apply(lambda x: 0 if 'izmir' in x else 1)\n",
    "test_data['il_kodu'] = test_data['ilce'].apply(lambda x: 0 if 'izmir' in x else 1)"
   ]
  },
  {
   "cell_type": "code",
   "execution_count": 5,
   "metadata": {},
   "outputs": [],
   "source": [
    "# merge by average\n",
    "\n",
    "weather_data[\"date\"] = pd.to_datetime(weather_data[\"date\"], format=\"%Y-%m-%d %H:%M:%S\")\n",
    "weather_data[\"Yıl\"] = weather_data[\"date\"].dt.year\n",
    "weather_data[\"Ay\"] = weather_data[\"date\"].dt.month\n",
    "weather_data[\"Gün\"] = weather_data[\"date\"].dt.day\n",
    "weather_data[\"Saat\"] = weather_data[\"date\"].dt.hour\n",
    "weather_data = weather_data.drop(columns=[\"date\"], axis = 1)\n",
    "\n",
    "grouped_data = weather_data.groupby(['ilce', 'Yıl', 'Ay', 'Gün'])\n",
    "daily_weather = grouped_data.mean()\n",
    "daily_weather = daily_weather.reset_index()\n",
    "daily_weather = daily_weather.drop(columns = [\"Saat\"], axis = 1)\n",
    "daily_weather_holidays = pd.merge(daily_weather, holidays_data, on=['Yıl', 'Ay', 'Gün'], how='left')\n",
    "\n",
    "# merge\n",
    "train_data[\"tarih\"] = pd.to_datetime(train_data[\"tarih\"], format=\"%Y-%m-%d\")"
   ]
  },
  {
   "cell_type": "code",
   "execution_count": 6,
   "metadata": {},
   "outputs": [],
   "source": [
    "# date formatting\n",
    "train_data[\"gun_adi\"] = train_data[\"tarih\"].dt.strftime(\"%A\")\n",
    "train_data[\"Yıl\"] = train_data[\"tarih\"].dt.year\n",
    "train_data[\"Ay\"] = train_data[\"tarih\"].dt.month\n",
    "train_data[\"Gün\"] = train_data[\"tarih\"].dt.day\n",
    "train_data = train_data.drop(columns=[\"tarih\"], axis = 1)\n",
    "\n",
    "df_train = pd.merge(daily_weather_holidays, train_data, on=['ilce','Yıl', 'Ay', 'Gün'], how='right')\n",
    "\n",
    "# test data merge\n",
    "test_data[\"tarih\"] = pd.to_datetime(test_data[\"tarih\"], format=\"%Y-%m-%d\")\n",
    "\n",
    "test_data[\"gun_adi\"] = test_data[\"tarih\"].dt.strftime(\"%A\")\n",
    "test_data[\"Yıl\"] = test_data[\"tarih\"].dt.year\n",
    "test_data[\"Ay\"] = test_data[\"tarih\"].dt.month\n",
    "test_data[\"Gün\"] = test_data[\"tarih\"].dt.day\n",
    "\n",
    "test_data = test_data.drop(columns=[\"tarih\"], axis = 1)\n",
    "\n",
    "# merge\n",
    "df_test = pd.merge(daily_weather_holidays, test_data, on=['ilce','Yıl', 'Ay', 'Gün'], how='right')"
   ]
  },
  {
   "cell_type": "code",
   "execution_count": 7,
   "metadata": {},
   "outputs": [],
   "source": [
    "# separate il-ilce\n",
    "df_train[['il', 'ilcee']] = df_train['ilce'].str.split('-', expand=True)\n",
    "df_test[['il', 'ilcee']] = df_test['ilce'].str.split('-', expand=True)\n",
    "\n",
    "df_train = df_train.drop(columns=['ilce'])\n",
    "df_test = df_test.drop(columns=['ilce'])\n",
    "\n",
    "# day mapping\n",
    "df_train[\"gun_tipi\"] = df_train[\"gun_adi\"].apply(lambda x: \"Haftasonu\" if x in [\"Saturday\", \"Sunday\"] else \"Haftaiçi\")\n",
    "df_test[\"gun_tipi\"] = df_test[\"gun_adi\"].apply(lambda x: \"Haftasonu\" if x in [\"Saturday\", \"Sunday\"] else \"Haftaiçi\")\n",
    "\n",
    "# temperature\n",
    "df_train[\"sicaklik_fark\"] = df_train[\"t_2m:C\"] - df_train[\"t_apparent:C\"]\n",
    "df_test[\"sicaklik_fark\"] = df_test[\"t_2m:C\"] - df_test[\"t_apparent:C\"]"
   ]
  },
  {
   "cell_type": "code",
   "execution_count": 8,
   "metadata": {},
   "outputs": [],
   "source": [
    "# replace _ with :\n",
    "def clean_feature_names(df):\n",
    "    df.columns = [re.sub(r'[^\\w\\s]', '_', col) for col in df.columns]\n",
    "    return df\n",
    "\n",
    "df_train = clean_feature_names(df_train)\n",
    "df_test = clean_feature_names(df_test)\n"
   ]
  },
  {
   "cell_type": "code",
   "execution_count": 9,
   "metadata": {},
   "outputs": [],
   "source": [
    "# wind direction\n",
    "def ruzgar_yonu_hesapla(degree):\n",
    "    yonler = {\n",
    "        (0, 45): \"Kuzey\",\n",
    "        (45, 90): \"Kuzeydoğu\",\n",
    "        (90, 135): \"Doğu\",\n",
    "        (135, 180): \"Güneydoğu\",\n",
    "        (180, 225): \"Güney\",\n",
    "        (225, 270): \"Güneybatı\",\n",
    "        (270, 315): \"Batı\",\n",
    "        (315, 360): \"Kuzeybatı\",\n",
    "    }\n",
    "    for (alt_sinir, ust_sinir), yon in yonler.items():\n",
    "        if alt_sinir <= degree < ust_sinir:\n",
    "            return yon\n",
    "    return \"Kuzeybatı\"  # 315 - 360 derece için\n",
    "\n",
    "df_train['ruzgar_yonu'] = df_train['wind_dir_10m_d'].apply(ruzgar_yonu_hesapla)\n",
    "df_test['ruzgar_yonu'] = df_test['wind_dir_10m_d'].apply(ruzgar_yonu_hesapla)"
   ]
  },
  {
   "cell_type": "code",
   "execution_count": 10,
   "metadata": {},
   "outputs": [],
   "source": [
    "# il - ilce encoding\n",
    "il = {'izmir':0, 'manisa':1}\n",
    "\n",
    "df_train['il'] = df_train['il'].map(il)\n",
    "df_test['il'] = df_test['il'].map(il)\n",
    "\n",
    "ilce = {\n",
    "    'akhisar':0, 'salihli':1, 'menderes':2, 'cesme':3, 'yunusemre':4, \"torbali\":5, \"konak\":6, \"odemis\":7, \"bornova\":8, \"sehzadeler\":9, \"urla\":10,\n",
    "    \"turgutlu\":11, \"bergama\":12, \"alasehir\":13, \"menemen\":14, \"dikili\":15, \"kemalpasa\":16, \"buca\":17, \"seferihisar\":18, \"tire\":19, \"saruhanli\":20,\n",
    "    \"aliaga\":21, \"bayindir\":22, \"karabaglar\":23, \"kiraz\":24, \"karaburun\":25, \"bayrakli\":26, \"foca\":27, \"soma\":28, \"karsiyaka\":29, \"cigli\":30,\n",
    "    \"gordes\":31, \"kula\":32, \"sarigol\":33, \"selendi\":34, \"kirkagac\":35, \"demirci\":36, \"gaziemir\":37, \"kinik\":38, \"selcuk\":39, \"guzelbahce\":40,\n",
    "    \"koprubasi\":41, \"narlidere\":42, \"balcova\":43, \"beydag\":44, \"ahmetli\":45, \"golmarmara\":46\n",
    "}\n",
    "\n",
    "df_train['ilcee'] = df_train['ilcee'].map(ilce)\n",
    "df_test['ilcee'] = df_test['ilcee'].map(ilce)\n",
    "\n",
    "# yil encoding\n",
    "Yıl = {2021: 0, 2022: 1, 2023: 2, 2024: 3}\n",
    "\n",
    "df_train['Yıl'] = df_train['Yıl'].map(Yıl)\n",
    "df_test['Yıl'] = df_test['Yıl'].map(Yıl)\n",
    "\n",
    "# Tatil encoding\n",
    "Tatil = {'Sacrifice Feast Holiday* (*estimated)': 1, 'Ramadan Feast Holiday* (*estimated)': 2, \"New Year's Day\": 3, 'Democracy and National Unity Day': 4, 'Labour Day': 5,\n",
    "        'Victory Day': 6, \"Commemoration of Ataturk, Youth and Sports Day\": 7, 'Ramadan Feast* (*estimated)': 8, 'Sacrifice Feast* (*estimated)': 9,\n",
    "        'Republic Day': 10, \"National Sovereignty and Children's Day\": 11, \"National Sovereignty and Children's Day; Ramadan Feast Holiday* (*estimated)\": 12}\n",
    "\n",
    "df_train['Bayram_Flag'] = df_train['Bayram_Flag'].map(Tatil)\n",
    "df_test['Bayram_Flag'] = df_test['Bayram_Flag'].map(Tatil)\n",
    "\n",
    "# not holiday = 0\n",
    "df_train['Bayram_Flag'] = df_train['Bayram_Flag'].fillna(0)\n",
    "df_test['Bayram_Flag'] = df_test['Bayram_Flag'].fillna(0)\n",
    "\n",
    "# gun encoding\n",
    "Günler = {'Monday':0, 'Tuesday':1, 'Wednesday':2, 'Thursday':3, 'Friday':4, 'Saturday':5, 'Sunday':6}\n",
    "\n",
    "df_train['gun_adi'] = df_train['gun_adi'].map(Günler)\n",
    "df_test['gun_adi'] = df_test['gun_adi'].map(Günler)\n",
    "\n",
    "# gun_tipi encoding\n",
    "Gün_tipi = {'Haftaiçi':0, 'Haftasonu':1}\n",
    "\n",
    "df_train['gun_tipi'] = df_train['gun_tipi'].map(Gün_tipi)\n",
    "df_test['gun_tipi'] = df_test['gun_tipi'].map(Gün_tipi)\n",
    "\n",
    "# ruzgar_yonu encoding\n",
    "Rüzgar_yönü = {'Kuzey':0, 'Kuzeydoğu':1, 'Doğu':2, 'Güneydoğu':3, 'Güney':4, 'Güneybatı':5, 'Batı':6, 'Kuzeybatı':7}\n",
    "\n",
    "df_train['ruzgar_yonu'] = df_train['ruzgar_yonu'].map(Rüzgar_yönü)\n",
    "df_test['ruzgar_yonu'] = df_test['ruzgar_yonu'].map(Rüzgar_yönü)\n",
    "\n",
    "df_train = df_train.drop('wind_dir_10m_d', axis = 1)\n",
    "df_test = df_test.drop('wind_dir_10m_d', axis = 1)\n"
   ]
  },
  {
   "cell_type": "code",
   "execution_count": 11,
   "metadata": {},
   "outputs": [],
   "source": [
    "# DROP\n",
    "# gun drop: low correlation\n",
    "df_train = df_train.drop(\"Gün\", axis = 1)\n",
    "df_test = df_test.drop(\"Gün\", axis = 1)\n",
    "\n",
    "# t_apparent:C hissedilen sicaklik drop: multicolinerity\n",
    "df_train = df_train.drop(columns = \"t_apparent_C\", axis = 1)\n",
    "df_test = df_test.drop(columns = \"t_apparent_C\", axis = 1)"
   ]
  },
  {
   "cell_type": "code",
   "execution_count": 12,
   "metadata": {},
   "outputs": [],
   "source": [
    "# One Hot Encoding - YAPILMIYOR\n",
    "columns_to_encode = ['Yıl', 'ilcee']\n",
    "\n",
    "encoder = OneHotEncoder(sparse=False, drop='first')\n",
    "\n",
    "encoded_train = encoder.fit_transform(df_train[columns_to_encode])\n",
    "encoded_test = encoder.transform(df_test[columns_to_encode])\n",
    "\n",
    "encoded_columns = encoder.get_feature_names_out(columns_to_encode)\n",
    "\n",
    "#df_train = pd.concat([df_train.drop(columns_to_encode, axis=1), pd.DataFrame(encoded_train, columns=encoded_columns)], axis=1)\n",
    "#df_test = pd.concat([df_test.drop(columns_to_encode, axis=1), pd.DataFrame(encoded_test, columns=encoded_columns)], axis=1)"
   ]
  },
  {
   "cell_type": "code",
   "execution_count": 13,
   "metadata": {},
   "outputs": [],
   "source": [
    "# train-test-split\n",
    "y = df_train['bildirimsiz_sum']                  \n",
    "X = df_train.drop(['bildirimsiz_sum'], axis=1)\n",
    "X_test = df_test.drop([\"unique_id\"], axis=1)\n",
    "\n",
    "#X_train, X_val, y_train, y_val = train_test_split(X, y, test_size=0.2, random_state=42)"
   ]
  },
  {
   "cell_type": "code",
   "execution_count": null,
   "metadata": {},
   "outputs": [],
   "source": [
    "# MODEL\n",
    "model = cb.CatBoostRegressor(eval_metric='MAE', loss_function='MAE', silent=True, random_state=42)\n",
    "model.fit(X, y)\n",
    "\n",
    "y_pred = model.predict(X)\n",
    "\n",
    "mae = mean_absolute_error(y, y_pred)\n",
    "r2 = r2_score(y, y_pred)\n",
    "\n",
    "print(\"Mean Absolute Error:\", mae)\n",
    "print(\"R^2 Score:\", r2)\n",
    "# 2.388729683470563, 0.44899031955046553"
   ]
  },
  {
   "cell_type": "code",
   "execution_count": 14,
   "metadata": {},
   "outputs": [
    {
     "name": "stdout",
     "output_type": "stream",
     "text": [
      "Cross-validation scores: [2.638758904917828, 2.6402330538986267, 2.601399775631201, 2.6597488085074628, 2.6719740114720003]\n",
      "Mean CV score: 2.642422910885424\n",
      "Mean R^2 score: 0.37972759560461966\n",
      "Mean Absolute Error score: 2.642422910885424\n"
     ]
    }
   ],
   "source": [
    "# MODEL TRAIN\n",
    "\n",
    "#model = cb.CatBoostRegressor(\n",
    "#    eval_metric='MAE',\n",
    "#    loss_function='MAE',\n",
    "#    silent=True,\n",
    "#    random_state=42,\n",
    "#    depth=10, \n",
    "#    iterations=1000, \n",
    "#    learning_rate=0.1, \n",
    "#    l2_leaf_reg=3 \n",
    "#)\n",
    "\n",
    "\n",
    "# grow_policy='Depthwise'\n",
    "model = cb.CatBoostRegressor(eval_metric='MAE',loss_function='MAE',silent = True, random_state=42)\n",
    "\n",
    "kf = KFold(n_splits=5, shuffle=True, random_state=42)\n",
    "\n",
    "cv_scores = []\n",
    "mae_scores = []\n",
    "r2_scores = []\n",
    "\n",
    "for train_index, val_index in kf.split(X):\n",
    "    X_train, X_val = X.iloc[train_index], X.iloc[val_index]\n",
    "    y_train, y_val = y.iloc[train_index], y.iloc[val_index]\n",
    "\n",
    "    # MODEL\n",
    "    model.fit(X_train, y_train)\n",
    "    y_pred = model.predict(X_val)\n",
    "\n",
    "    # CV\n",
    "    cv_scores.append(mean_absolute_error(y_val, y_pred))\n",
    "    mae_scores.append(mean_absolute_error(y_val, y_pred))\n",
    "    r2_scores.append(r2_score(y_val, y_pred))\n",
    "\n",
    "print(\"Cross-validation scores:\", cv_scores)\n",
    "print(\"Mean CV score:\", sum(cv_scores) / len(cv_scores))\n",
    "print(\"Mean R^2 score:\", sum(r2_scores) / len(r2_scores))\n",
    "print(\"Mean Absolute Error score:\", sum(mae_scores) / len(mae_scores))"
   ]
  },
  {
   "cell_type": "code",
   "execution_count": 15,
   "metadata": {},
   "outputs": [],
   "source": [
    "y_pred = model.predict(X_test).astype(int)"
   ]
  },
  {
   "cell_type": "code",
   "execution_count": 16,
   "metadata": {},
   "outputs": [],
   "source": [
    "sample_submission['bildirimsiz_sum'] = y_pred\n",
    "sample_submission.to_csv('submission.csv', index=False)"
   ]
  }
 ],
 "metadata": {
  "kaggle": {
   "accelerator": "none",
   "dataSources": [
    {
     "databundleVersionId": 8421693,
     "sourceId": 77202,
     "sourceType": "competition"
    }
   ],
   "dockerImageVersionId": 30698,
   "isGpuEnabled": false,
   "isInternetEnabled": true,
   "language": "python",
   "sourceType": "notebook"
  },
  "kernelspec": {
   "display_name": "Python 3 (ipykernel)",
   "language": "python",
   "name": "python3"
  },
  "language_info": {
   "codemirror_mode": {
    "name": "ipython",
    "version": 3
   },
   "file_extension": ".py",
   "mimetype": "text/x-python",
   "name": "python",
   "nbconvert_exporter": "python",
   "pygments_lexer": "ipython3",
   "version": "3.10.12"
  }
 },
 "nbformat": 4,
 "nbformat_minor": 4
}
